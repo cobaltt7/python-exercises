{
 "cells": [
  {
   "cell_type": "markdown",
   "id": "3f492dae",
   "metadata": {},
   "source": [
    "# Mann-Whitney U test\n",
    "\n",
    "-   Asses difference between two samples of continuous data\n",
    "-   Compares the distributions\n",
    "-   Determines if one group is generally higher than the other\n",
    "-   H0: No difference\n",
    "-   H1: One group has significantly different values\n",
    "-   Works well when:\n",
    "    -   Ordinal or continuous data\n",
    "    -   Non-normal distributions\n",
    "    -   Two independent groups\n",
    "    -   Sample size is small (5-30 values)\n",
    "    -   Distributions have similar shapes\n",
    "    -   Data sets are indipendent\n",
    "- Use the Kruskal-Wallis Test to compare more than 2 groups"
   ]
  },
  {
   "cell_type": "code",
   "execution_count": 2,
   "id": "eff68c84",
   "metadata": {},
   "outputs": [],
   "source": [
    "# Two samples\n",
    "\n",
    "batch_1 = [3, 4, 2, 6, 2, 5]\n",
    "batch_2 = [9, 7, 5, 10, 8, 6]"
   ]
  },
  {
   "cell_type": "markdown",
   "id": "a95aa49d",
   "metadata": {},
   "source": [
    "Steps:\n",
    "\n",
    "-   Rank all values in both datasets from smallest to largest\n",
    "    -   Average out any ties\n",
    "-   Sum the ranks\n",
    "-   Calculate U-stats\n",
    "    -   n: sample sizes\n",
    "    -   R: rank sums\n",
    "    -   `U1 = n1 * n2 + ((n1 * (n1 + 1)) / 2) - R1`\n",
    "    -   `U2 = n1 * n2 + ((n2 * (n2 + 1)) / 2) - R2`\n",
    "    -   `U = min(U1, U2)`\n",
    "-   Use a critical values table to determin the critical value and comapare it to U (or calculate a p-value)\n"
   ]
  },
  {
   "cell_type": "code",
   "execution_count": 3,
   "id": "bc85cec2",
   "metadata": {},
   "outputs": [
    {
     "name": "stdout",
     "output_type": "stream",
     "text": [
      "Statistics=2.00, p=0.01\n"
     ]
    }
   ],
   "source": [
    "stat, p_value = mannwhitneyu(batch_1, batch_2)\n",
    "print(\"Statistics=%.2f, p=%.2f\" % (stat, p_value))"
   ]
  },
  {
   "cell_type": "markdown",
   "id": "2cde32ea",
   "metadata": {},
   "source": [
    "`p-val < 0.05` -> reject H0 -> there is a difference\n"
   ]
  }
 ],
 "metadata": {
  "kernelspec": {
   "display_name": "Python 3",
   "language": "python",
   "name": "python3"
  },
  "language_info": {
   "codemirror_mode": {
    "name": "ipython",
    "version": 3
   },
   "file_extension": ".py",
   "mimetype": "text/x-python",
   "name": "python",
   "nbconvert_exporter": "python",
   "pygments_lexer": "ipython3",
   "version": "3.11.13"
  }
 },
 "nbformat": 4,
 "nbformat_minor": 5
}
