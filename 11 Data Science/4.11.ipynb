{
    "cells": [
        {
            "cell_type": "markdown",
            "id": "6cf2b989",
            "metadata": {},
            "source": [
                "# Chi-Squared test\n",
                "\n",
                "- Determines relationships between two categorical variables and one target variable\n",
                "- Non-parametric (doesn't follow normal distribution)\n",
                "- Good for feature selection in ML, testing independence, and assessing model fit\n"
            ]
        },
        {
            "cell_type": "code",
            "execution_count": 1,
            "id": "23cbb456",
            "metadata": {},
            "outputs": [],
            "source": [
                "# Example: Are people's subscription status and income level independent?\n",
                "# Null hypothesis: No association, independent\n",
                "# Alternative hypothesis: Significant association, not independent"
            ]
        },
        {
            "cell_type": "code",
            "execution_count": 10,
            "id": "28513ce4",
            "metadata": {},
            "outputs": [
                {
                    "data": {
                        "text/html": [
                            "<div>\n",
                            "<style scoped>\n",
                            "    .dataframe tbody tr th:only-of-type {\n",
                            "        vertical-align: middle;\n",
                            "    }\n",
                            "\n",
                            "    .dataframe tbody tr th {\n",
                            "        vertical-align: top;\n",
                            "    }\n",
                            "\n",
                            "    .dataframe thead th {\n",
                            "        text-align: right;\n",
                            "    }\n",
                            "</style>\n",
                            "<table border=\"1\" class=\"dataframe\">\n",
                            "  <thead>\n",
                            "    <tr style=\"text-align: right;\">\n",
                            "      <th></th>\n",
                            "      <th>Subscribed</th>\n",
                            "      <th>Not Subscribed</th>\n",
                            "    </tr>\n",
                            "  </thead>\n",
                            "  <tbody>\n",
                            "    <tr>\n",
                            "      <th>Low Income</th>\n",
                            "      <td>20</td>\n",
                            "      <td>30</td>\n",
                            "    </tr>\n",
                            "    <tr>\n",
                            "      <th>Medium Income</th>\n",
                            "      <td>40</td>\n",
                            "      <td>25</td>\n",
                            "    </tr>\n",
                            "    <tr>\n",
                            "      <th>High Income</th>\n",
                            "      <td>10</td>\n",
                            "      <td>15</td>\n",
                            "    </tr>\n",
                            "  </tbody>\n",
                            "</table>\n",
                            "</div>"
                        ],
                        "text/plain": [
                            "               Subscribed  Not Subscribed\n",
                            "Low Income             20              30\n",
                            "Medium Income          40              25\n",
                            "High Income            10              15"
                        ]
                    },
                    "execution_count": 10,
                    "metadata": {},
                    "output_type": "execute_result"
                }
            ],
            "source": [
                "# Create a contingency table\n",
                "import pandas as pd\n",
                "\n",
                "contingency = pd.DataFrame(\n",
                "    [[20, 30], [40, 25], [10, 15]],\n",
                "    index=[\"Low Income\", \"Medium Income\", \"High Income\"],\n",
                "    columns=[\"Subscribed\", \"Not Subscribed\"],\n",
                ")\n",
                "contingency"
            ]
        },
        {
            "cell_type": "code",
            "execution_count": 26,
            "id": "0ea6eb23",
            "metadata": {},
            "outputs": [
                {
                    "data": {
                        "text/html": [
                            "<div>\n",
                            "<style scoped>\n",
                            "    .dataframe tbody tr th:only-of-type {\n",
                            "        vertical-align: middle;\n",
                            "    }\n",
                            "\n",
                            "    .dataframe tbody tr th {\n",
                            "        vertical-align: top;\n",
                            "    }\n",
                            "\n",
                            "    .dataframe thead th {\n",
                            "        text-align: right;\n",
                            "    }\n",
                            "</style>\n",
                            "<table border=\"1\" class=\"dataframe\">\n",
                            "  <thead>\n",
                            "    <tr style=\"text-align: right;\">\n",
                            "      <th></th>\n",
                            "      <th>Subscribed</th>\n",
                            "      <th>Not Subscribed</th>\n",
                            "    </tr>\n",
                            "  </thead>\n",
                            "  <tbody>\n",
                            "    <tr>\n",
                            "      <th>Low Income</th>\n",
                            "      <td>25.0</td>\n",
                            "      <td>25.0</td>\n",
                            "    </tr>\n",
                            "    <tr>\n",
                            "      <th>Medium Income</th>\n",
                            "      <td>32.5</td>\n",
                            "      <td>32.5</td>\n",
                            "    </tr>\n",
                            "    <tr>\n",
                            "      <th>High Income</th>\n",
                            "      <td>12.5</td>\n",
                            "      <td>12.5</td>\n",
                            "    </tr>\n",
                            "  </tbody>\n",
                            "</table>\n",
                            "</div>"
                        ],
                        "text/plain": [
                            "               Subscribed  Not Subscribed\n",
                            "Low Income           25.0            25.0\n",
                            "Medium Income        32.5            32.5\n",
                            "High Income          12.5            12.5"
                        ]
                    },
                    "execution_count": 26,
                    "metadata": {},
                    "output_type": "execute_result"
                }
            ],
            "source": [
                "# Calculate expected frequencies\n",
                "import pandas as pd\n",
                "\n",
                "column_totals = contingency.sum()\n",
                "row_totals = contingency.sum(axis=1)\n",
                "total_count = column_totals.sum()\n",
                "\n",
                "\n",
                "expected = pd.DataFrame(\n",
                "    [\n",
                "        [\n",
                "            income_count * subscription_count / total_count\n",
                "            for subscription_count in column_totals\n",
                "        ]\n",
                "        for income_count in row_totals\n",
                "    ],\n",
                "    index=contingency.index,\n",
                "    columns=contingency.columns,\n",
                ")\n",
                "expected"
            ]
        },
        {
            "cell_type": "code",
            "execution_count": null,
            "id": "e4e7ff91",
            "metadata": {},
            "outputs": [
                {
                    "data": {
                        "text/plain": [
                            "np.float64(6.461538461538462)"
                        ]
                    },
                    "execution_count": 58,
                    "metadata": {},
                    "output_type": "execute_result"
                }
            ],
            "source": [
                "observed_values = [item for rows in contingency.values for item in rows]\n",
                "\n",
                "chi2 = sum([\n",
                "    (observed_values[i * len(rows) + j] - expected_value) ** 2 / expected_value\n",
                "    for i, rows in enumerate(expected.values)\n",
                "    for j, expected_value in enumerate(rows)\n",
                "])\n",
                "chi2"
            ]
        },
        {
            "cell_type": "code",
            "execution_count": null,
            "id": "00ae8e28",
            "metadata": {},
            "outputs": [
                {
                    "data": {
                        "text/plain": [
                            "2"
                        ]
                    },
                    "execution_count": 62,
                    "metadata": {},
                    "output_type": "execute_result"
                }
            ],
            "source": [
                "# Degrees of freedom: number of independent values\n",
                "# (number of rows - 1) * (number of columns - 1)\n",
                "rows, cols = expected.shape\n",
                "df = (rows - 1) * (cols - 1)\n",
                "df"
            ]
        },
        {
            "cell_type": "code",
            "execution_count": null,
            "id": "28b728dc",
            "metadata": {},
            "outputs": [
                {
                    "data": {
                        "text/plain": [
                            "np.float64(5.991464547107979)"
                        ]
                    },
                    "execution_count": 63,
                    "metadata": {},
                    "output_type": "execute_result"
                }
            ],
            "source": [
                "import scipy.stats as stats\n",
                "\n",
                "alpha = 0.05\n",
                "\n",
                "critical_value = stats.chi2.ppf(1 - alpha, df)\n",
                "critical_value"
            ]
        },
        {
            "cell_type": "code",
            "execution_count": 66,
            "id": "b7b1aee8",
            "metadata": {},
            "outputs": [
                {
                    "data": {
                        "text/plain": [
                            "np.False_"
                        ]
                    },
                    "execution_count": 66,
                    "metadata": {},
                    "output_type": "execute_result"
                }
            ],
            "source": [
                "chi2 < critical_value\n",
                "# Reject null hypothesis\n",
                "# Significant association"
            ]
        }
    ],
    "metadata": {
        "kernelspec": {
            "display_name": "Python 3",
            "language": "python",
            "name": "python3"
        },
        "language_info": {
            "codemirror_mode": {
                "name": "ipython",
                "version": 3
            },
            "file_extension": ".py",
            "mimetype": "text/x-python",
            "name": "python",
            "nbconvert_exporter": "python",
            "pygments_lexer": "ipython3",
            "version": "3.11.13"
        }
    },
    "nbformat": 4,
    "nbformat_minor": 5
}
