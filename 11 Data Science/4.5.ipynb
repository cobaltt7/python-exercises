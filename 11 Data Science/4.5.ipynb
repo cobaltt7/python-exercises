{
 "cells": [
  {
   "cell_type": "markdown",
   "id": "0f849037",
   "metadata": {},
   "source": [
    "# Hypothesis testing\n",
    "- Compare two opposite ideas (ie \"[claim]\" vs \"[claim] is false\")\n",
    "- Uses a sample to determine which idea is *more likely* to be true\n",
    "- Can struggle to capture complex problems\n",
    "- Accuracy of results relies on good quality data\n",
    "- Doesn't focus on the big picture\n",
    "- Should not be used alone"
   ]
  },
  {
   "cell_type": "markdown",
   "id": "6cb176c9",
   "metadata": {},
   "source": [
    "## Example:\n",
    "- H0: A drug does not lower blood pressue\n",
    "- H1: The drug does lower blood pressue"
   ]
  },
  {
   "cell_type": "code",
   "execution_count": 2,
   "id": "9afead7c",
   "metadata": {},
   "outputs": [
    {
     "data": {
      "text/plain": [
       "array([120, 122, 118, 130, 125, 128, 115, 121, 123, 119])"
      ]
     },
     "execution_count": 2,
     "metadata": {},
     "output_type": "execute_result"
    }
   ],
   "source": [
    "import numpy as np\n",
    "\n",
    "# BP before treatment\n",
    "before = np.array([120, 122, 118, 130, 125, 128, 115, 121, 123, 119])\n",
    "before"
   ]
  },
  {
   "cell_type": "code",
   "execution_count": 3,
   "id": "76b288a8",
   "metadata": {},
   "outputs": [
    {
     "data": {
      "text/plain": [
       "array([115, 120, 112, 128, 122, 125, 110, 117, 119, 114])"
      ]
     },
     "execution_count": 3,
     "metadata": {},
     "output_type": "execute_result"
    }
   ],
   "source": [
    "# BP after treatment\n",
    "after = np.array([115, 120, 112, 128, 122, 125, 110, 117, 119, 114])\n",
    "after"
   ]
  },
  {
   "cell_type": "markdown",
   "id": "f5df25c6",
   "metadata": {},
   "source": [
    "### Significance level\n",
    "- The confidence to accept a result\n",
    "- The maximum chance of a false negative (wrongly rejecting H0)\n",
    "- Standardized to be 0.05 (5%)"
   ]
  },
  {
   "cell_type": "code",
   "execution_count": 4,
   "id": "27fa11d2",
   "metadata": {},
   "outputs": [],
   "source": [
    "alpha = 0.05"
   ]
  },
  {
   "cell_type": "markdown",
   "id": "5e449d1b",
   "metadata": {},
   "source": [
    "### Calculate test statistic\n",
    "\n",
    "-   Measures how much the sample deviates from what would be expected if H0 was true\n",
    "-   Different types\n",
    "    -   Z-test: When variance is known and sample size is large\n",
    "    -   T-test: When variance is unknown or sample size is small\n",
    "    -   Chi-square test: When comparing counts of categorical data"
   ]
  },
  {
   "cell_type": "code",
   "execution_count": 8,
   "id": "73fa2079",
   "metadata": {},
   "outputs": [],
   "source": [
    "from scipy import stats\n",
    "\n",
    "t_stat, p_val = stats.ttest_rel(after, before)"
   ]
  },
  {
   "cell_type": "markdown",
   "id": "79229cae",
   "metadata": {},
   "source": [
    "### Compare using P-value\n",
    "- Because the p-value is smaller than the significance level, H0 is rejected and H1 is therefore more likely"
   ]
  },
  {
   "cell_type": "code",
   "execution_count": 10,
   "id": "23e45664",
   "metadata": {},
   "outputs": [
    {
     "data": {
      "text/plain": [
       "np.float64(8.538051223166285e-06)"
      ]
     },
     "execution_count": 10,
     "metadata": {},
     "output_type": "execute_result"
    }
   ],
   "source": [
    "p_val"
   ]
  },
  {
   "cell_type": "code",
   "execution_count": 6,
   "id": "57791fdc",
   "metadata": {},
   "outputs": [
    {
     "data": {
      "text/plain": [
       "np.True_"
      ]
     },
     "execution_count": 6,
     "metadata": {},
     "output_type": "execute_result"
    }
   ],
   "source": [
    "p_val <= alpha"
   ]
  },
  {
   "cell_type": "code",
   "execution_count": 7,
   "id": "d0e32a90",
   "metadata": {},
   "outputs": [
    {
     "data": {
      "text/plain": [
       "'Reject H0'"
      ]
     },
     "execution_count": 7,
     "metadata": {},
     "output_type": "execute_result"
    }
   ],
   "source": [
    "\"Reject H0\" if p_val <= alpha else \"Failed to reject H0\""
   ]
  },
  {
   "cell_type": "markdown",
   "id": "0db4b57e",
   "metadata": {},
   "source": [
    "### T-statistic\n",
    "\n",
    "-   You can also compare the test statistic to a critical value to decide whether to reject H0\n",
    "-   The T-stat shows the change - in this case BP is lowered (since the T-stat is negative)\n",
    "-   Its absolute value is the degrees of freedom to use when calculating the p-value\n"
   ]
  },
  {
   "cell_type": "code",
   "execution_count": 11,
   "id": "4121a87d",
   "metadata": {},
   "outputs": [
    {
     "data": {
      "text/plain": [
       "np.float64(-9.0)"
      ]
     },
     "execution_count": 11,
     "metadata": {},
     "output_type": "execute_result"
    }
   ],
   "source": [
    "t_stat"
   ]
  },
  {
   "cell_type": "code",
   "execution_count": null,
   "id": "a114bb7b",
   "metadata": {},
   "outputs": [
    {
     "data": {
      "text/plain": [
       "np.float64(-9.0)"
      ]
     },
     "execution_count": 12,
     "metadata": {},
     "output_type": "execute_result"
    }
   ],
   "source": [
    "# Manual calculation of T-stat\n",
    "\n",
    "mean = np.mean(after - before)\n",
    "difference = after - before\n",
    "sample_size = len(before)\n",
    "\n",
    "mean / (np.std(difference, ddof=1) / np.sqrt(sample_size))"
   ]
  }
 ],
 "metadata": {
  "kernelspec": {
   "display_name": "g4g-ds",
   "language": "python",
   "name": "python3"
  },
  "language_info": {
   "codemirror_mode": {
    "name": "ipython",
    "version": 3
   },
   "file_extension": ".py",
   "mimetype": "text/x-python",
   "name": "python",
   "nbconvert_exporter": "python",
   "pygments_lexer": "ipython3",
   "version": "3.13.2"
  }
 },
 "nbformat": 4,
 "nbformat_minor": 5
}
