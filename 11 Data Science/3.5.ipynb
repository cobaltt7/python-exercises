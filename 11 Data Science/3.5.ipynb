{
 "cells": [
  {
   "cell_type": "code",
   "execution_count": 23,
   "id": "99638737",
   "metadata": {},
   "outputs": [],
   "source": [
    "import pandas as pd"
   ]
  },
  {
   "cell_type": "code",
   "execution_count": 24,
   "id": "a8840ceb",
   "metadata": {},
   "outputs": [
    {
     "data": {
      "text/html": [
       "<div>\n",
       "<style scoped>\n",
       "    .dataframe tbody tr th:only-of-type {\n",
       "        vertical-align: middle;\n",
       "    }\n",
       "\n",
       "    .dataframe tbody tr th {\n",
       "        vertical-align: top;\n",
       "    }\n",
       "\n",
       "    .dataframe thead th {\n",
       "        text-align: right;\n",
       "    }\n",
       "</style>\n",
       "<table border=\"1\" class=\"dataframe\">\n",
       "  <thead>\n",
       "    <tr style=\"text-align: right;\">\n",
       "      <th></th>\n",
       "      <th>id</th>\n",
       "      <th>name</th>\n",
       "      <th>Maths_marks</th>\n",
       "      <th>Chemistry_marks</th>\n",
       "      <th>telugu_marks</th>\n",
       "      <th>hindi_marks</th>\n",
       "      <th>social_marks</th>\n",
       "    </tr>\n",
       "  </thead>\n",
       "  <tbody>\n",
       "    <tr>\n",
       "      <th>0</th>\n",
       "      <td>7058</td>\n",
       "      <td>sravan</td>\n",
       "      <td>99</td>\n",
       "      <td>89</td>\n",
       "      <td>99</td>\n",
       "      <td>99</td>\n",
       "      <td>79</td>\n",
       "    </tr>\n",
       "    <tr>\n",
       "      <th>1</th>\n",
       "      <td>4511</td>\n",
       "      <td>manoj</td>\n",
       "      <td>97</td>\n",
       "      <td>99</td>\n",
       "      <td>97</td>\n",
       "      <td>97</td>\n",
       "      <td>97</td>\n",
       "    </tr>\n",
       "    <tr>\n",
       "      <th>2</th>\n",
       "      <td>7014</td>\n",
       "      <td>aditya</td>\n",
       "      <td>88</td>\n",
       "      <td>99</td>\n",
       "      <td>88</td>\n",
       "      <td>56</td>\n",
       "      <td>78</td>\n",
       "    </tr>\n",
       "    <tr>\n",
       "      <th>3</th>\n",
       "      <td>7033</td>\n",
       "      <td>bhanu</td>\n",
       "      <td>90</td>\n",
       "      <td>90</td>\n",
       "      <td>80</td>\n",
       "      <td>67</td>\n",
       "      <td>90</td>\n",
       "    </tr>\n",
       "    <tr>\n",
       "      <th>4</th>\n",
       "      <td>1234</td>\n",
       "      <td>manoj</td>\n",
       "      <td>60</td>\n",
       "      <td>50</td>\n",
       "      <td>100</td>\n",
       "      <td>90</td>\n",
       "      <td>97</td>\n",
       "    </tr>\n",
       "  </tbody>\n",
       "</table>\n",
       "</div>"
      ],
      "text/plain": [
       "     id    name  Maths_marks  Chemistry_marks  telugu_marks  hindi_marks  \\\n",
       "0  7058  sravan           99               89            99           99   \n",
       "1  4511   manoj           97               99            97           97   \n",
       "2  7014  aditya           88               99            88           56   \n",
       "3  7033   bhanu           90               90            80           67   \n",
       "4  1234   manoj           60               50           100           90   \n",
       "\n",
       "   social_marks  \n",
       "0            79  \n",
       "1            97  \n",
       "2            78  \n",
       "3            90  \n",
       "4            97  "
      ]
     },
     "execution_count": 24,
     "metadata": {},
     "output_type": "execute_result"
    }
   ],
   "source": [
    "dataframe = pd.DataFrame({\n",
    "    \"id\": [7058, 4511, 7014, 7033, 1234],\n",
    "    \"name\": [\"sravan\", \"manoj\", \"aditya\", \"bhanu\", \"manoj\"],\n",
    "    \"Maths_marks\": [99, 97, 88, 90, 60],\n",
    "    \"Chemistry_marks\": [89, 99, 99, 90, 50],\n",
    "    \"telugu_marks\": [99, 97, 88, 80, 100],\n",
    "    \"hindi_marks\": [99, 97, 56, 67, 90],\n",
    "    \"social_marks\": [79, 97, 78, 90, 97],\n",
    "})\n",
    "dataframe"
   ]
  },
  {
   "cell_type": "code",
   "execution_count": 25,
   "id": "15d8cf70",
   "metadata": {},
   "outputs": [
    {
     "data": {
      "text/html": [
       "<div>\n",
       "<style scoped>\n",
       "    .dataframe tbody tr th:only-of-type {\n",
       "        vertical-align: middle;\n",
       "    }\n",
       "\n",
       "    .dataframe tbody tr th {\n",
       "        vertical-align: top;\n",
       "    }\n",
       "\n",
       "    .dataframe thead th {\n",
       "        text-align: right;\n",
       "    }\n",
       "</style>\n",
       "<table border=\"1\" class=\"dataframe\">\n",
       "  <thead>\n",
       "    <tr style=\"text-align: right;\">\n",
       "      <th></th>\n",
       "      <th>id</th>\n",
       "      <th>Maths_marks</th>\n",
       "      <th>Chemistry_marks</th>\n",
       "      <th>telugu_marks</th>\n",
       "      <th>hindi_marks</th>\n",
       "      <th>social_marks</th>\n",
       "    </tr>\n",
       "  </thead>\n",
       "  <tbody>\n",
       "    <tr>\n",
       "      <th>count</th>\n",
       "      <td>5.000000</td>\n",
       "      <td>5.000000</td>\n",
       "      <td>5.000000</td>\n",
       "      <td>5.00000</td>\n",
       "      <td>5.000000</td>\n",
       "      <td>5.000000</td>\n",
       "    </tr>\n",
       "    <tr>\n",
       "      <th>mean</th>\n",
       "      <td>5370.000000</td>\n",
       "      <td>86.800000</td>\n",
       "      <td>85.400000</td>\n",
       "      <td>92.80000</td>\n",
       "      <td>81.800000</td>\n",
       "      <td>88.200000</td>\n",
       "    </tr>\n",
       "    <tr>\n",
       "      <th>std</th>\n",
       "      <td>2557.441397</td>\n",
       "      <td>15.674821</td>\n",
       "      <td>20.354361</td>\n",
       "      <td>8.58487</td>\n",
       "      <td>19.227584</td>\n",
       "      <td>9.311283</td>\n",
       "    </tr>\n",
       "    <tr>\n",
       "      <th>min</th>\n",
       "      <td>1234.000000</td>\n",
       "      <td>60.000000</td>\n",
       "      <td>50.000000</td>\n",
       "      <td>80.00000</td>\n",
       "      <td>56.000000</td>\n",
       "      <td>78.000000</td>\n",
       "    </tr>\n",
       "    <tr>\n",
       "      <th>25%</th>\n",
       "      <td>4511.000000</td>\n",
       "      <td>88.000000</td>\n",
       "      <td>89.000000</td>\n",
       "      <td>88.00000</td>\n",
       "      <td>67.000000</td>\n",
       "      <td>79.000000</td>\n",
       "    </tr>\n",
       "    <tr>\n",
       "      <th>50%</th>\n",
       "      <td>7014.000000</td>\n",
       "      <td>90.000000</td>\n",
       "      <td>90.000000</td>\n",
       "      <td>97.00000</td>\n",
       "      <td>90.000000</td>\n",
       "      <td>90.000000</td>\n",
       "    </tr>\n",
       "    <tr>\n",
       "      <th>75%</th>\n",
       "      <td>7033.000000</td>\n",
       "      <td>97.000000</td>\n",
       "      <td>99.000000</td>\n",
       "      <td>99.00000</td>\n",
       "      <td>97.000000</td>\n",
       "      <td>97.000000</td>\n",
       "    </tr>\n",
       "    <tr>\n",
       "      <th>max</th>\n",
       "      <td>7058.000000</td>\n",
       "      <td>99.000000</td>\n",
       "      <td>99.000000</td>\n",
       "      <td>100.00000</td>\n",
       "      <td>99.000000</td>\n",
       "      <td>97.000000</td>\n",
       "    </tr>\n",
       "  </tbody>\n",
       "</table>\n",
       "</div>"
      ],
      "text/plain": [
       "                id  Maths_marks  Chemistry_marks  telugu_marks  hindi_marks  \\\n",
       "count     5.000000     5.000000         5.000000       5.00000     5.000000   \n",
       "mean   5370.000000    86.800000        85.400000      92.80000    81.800000   \n",
       "std    2557.441397    15.674821        20.354361       8.58487    19.227584   \n",
       "min    1234.000000    60.000000        50.000000      80.00000    56.000000   \n",
       "25%    4511.000000    88.000000        89.000000      88.00000    67.000000   \n",
       "50%    7014.000000    90.000000        90.000000      97.00000    90.000000   \n",
       "75%    7033.000000    97.000000        99.000000      99.00000    97.000000   \n",
       "max    7058.000000    99.000000        99.000000     100.00000    99.000000   \n",
       "\n",
       "       social_marks  \n",
       "count      5.000000  \n",
       "mean      88.200000  \n",
       "std        9.311283  \n",
       "min       78.000000  \n",
       "25%       79.000000  \n",
       "50%       90.000000  \n",
       "75%       97.000000  \n",
       "max       97.000000  "
      ]
     },
     "execution_count": 25,
     "metadata": {},
     "output_type": "execute_result"
    }
   ],
   "source": [
    "dataframe.describe()"
   ]
  },
  {
   "cell_type": "code",
   "execution_count": 26,
   "id": "e0d88ef2",
   "metadata": {},
   "outputs": [
    {
     "data": {
      "text/plain": [
       "array([99, 97, 88, 90, 60])"
      ]
     },
     "execution_count": 26,
     "metadata": {},
     "output_type": "execute_result"
    }
   ],
   "source": [
    "dataframe[\"Maths_marks\"].unique()"
   ]
  },
  {
   "cell_type": "code",
   "execution_count": 27,
   "id": "f2b901a4",
   "metadata": {},
   "outputs": [
    {
     "data": {
      "text/plain": [
       "5"
      ]
     },
     "execution_count": 27,
     "metadata": {},
     "output_type": "execute_result"
    }
   ],
   "source": [
    "dataframe[\"Maths_marks\"].nunique()"
   ]
  },
  {
   "cell_type": "code",
   "execution_count": 28,
   "id": "c397ce12",
   "metadata": {},
   "outputs": [
    {
     "data": {
      "text/plain": [
       "Index(['id', 'name', 'Maths_marks', 'Chemistry_marks', 'telugu_marks',\n",
       "       'hindi_marks', 'social_marks'],\n",
       "      dtype='object')"
      ]
     },
     "execution_count": 28,
     "metadata": {},
     "output_type": "execute_result"
    }
   ],
   "source": [
    "dataframe.columns"
   ]
  },
  {
   "cell_type": "code",
   "execution_count": 29,
   "id": "819a84e2",
   "metadata": {},
   "outputs": [
    {
     "name": "stdout",
     "output_type": "stream",
     "text": [
      "<class 'pandas.core.frame.DataFrame'>\n",
      "RangeIndex: 5 entries, 0 to 4\n",
      "Data columns (total 7 columns):\n",
      " #   Column           Non-Null Count  Dtype \n",
      "---  ------           --------------  ----- \n",
      " 0   id               5 non-null      int64 \n",
      " 1   name             5 non-null      object\n",
      " 2   Maths_marks      5 non-null      int64 \n",
      " 3   Chemistry_marks  5 non-null      int64 \n",
      " 4   telugu_marks     5 non-null      int64 \n",
      " 5   hindi_marks      5 non-null      int64 \n",
      " 6   social_marks     5 non-null      int64 \n",
      "dtypes: int64(6), object(1)\n",
      "memory usage: 412.0+ bytes\n"
     ]
    }
   ],
   "source": [
    "dataframe.info()"
   ]
  },
  {
   "cell_type": "code",
   "execution_count": 30,
   "id": "35ad0ce4",
   "metadata": {},
   "outputs": [
    {
     "data": {
      "text/plain": [
       "id                   1234\n",
       "name               aditya\n",
       "Maths_marks            60\n",
       "Chemistry_marks        50\n",
       "telugu_marks           80\n",
       "hindi_marks            56\n",
       "social_marks           78\n",
       "dtype: object"
      ]
     },
     "execution_count": 30,
     "metadata": {},
     "output_type": "execute_result"
    }
   ],
   "source": [
    "dataframe.min()"
   ]
  },
  {
   "cell_type": "code",
   "execution_count": 31,
   "id": "820482d8",
   "metadata": {},
   "outputs": [
    {
     "data": {
      "text/plain": [
       "60"
      ]
     },
     "execution_count": 31,
     "metadata": {},
     "output_type": "execute_result"
    }
   ],
   "source": [
    "dataframe[\"Maths_marks\"].min()"
   ]
  },
  {
   "cell_type": "code",
   "execution_count": 32,
   "id": "f7d7e96f",
   "metadata": {},
   "outputs": [
    {
     "data": {
      "text/plain": [
       "id                   7058\n",
       "name               sravan\n",
       "Maths_marks            99\n",
       "Chemistry_marks        99\n",
       "telugu_marks          100\n",
       "hindi_marks            99\n",
       "social_marks           97\n",
       "dtype: object"
      ]
     },
     "execution_count": 32,
     "metadata": {},
     "output_type": "execute_result"
    }
   ],
   "source": [
    "dataframe.max()"
   ]
  },
  {
   "cell_type": "code",
   "execution_count": 33,
   "id": "710d6141",
   "metadata": {},
   "outputs": [
    {
     "data": {
      "text/plain": [
       "id                                       26850\n",
       "name               sravanmanojadityabhanumanoj\n",
       "Maths_marks                                434\n",
       "Chemistry_marks                            427\n",
       "telugu_marks                               464\n",
       "hindi_marks                                409\n",
       "social_marks                               441\n",
       "dtype: object"
      ]
     },
     "execution_count": 33,
     "metadata": {},
     "output_type": "execute_result"
    }
   ],
   "source": [
    "dataframe.sum()"
   ]
  },
  {
   "cell_type": "code",
   "execution_count": 34,
   "id": "ecf085f4",
   "metadata": {},
   "outputs": [
    {
     "data": {
      "text/plain": [
       "id                 5\n",
       "name               5\n",
       "Maths_marks        5\n",
       "Chemistry_marks    5\n",
       "telugu_marks       5\n",
       "hindi_marks        5\n",
       "social_marks       5\n",
       "dtype: int64"
      ]
     },
     "execution_count": 34,
     "metadata": {},
     "output_type": "execute_result"
    }
   ],
   "source": [
    "dataframe.count()"
   ]
  },
  {
   "cell_type": "code",
   "execution_count": 35,
   "id": "052d5327",
   "metadata": {},
   "outputs": [
    {
     "data": {
      "text/plain": [
       "id                 2557.441397\n",
       "Maths_marks          15.674821\n",
       "Chemistry_marks      20.354361\n",
       "telugu_marks          8.584870\n",
       "hindi_marks          19.227584\n",
       "social_marks          9.311283\n",
       "dtype: float64"
      ]
     },
     "execution_count": 35,
     "metadata": {},
     "output_type": "execute_result"
    }
   ],
   "source": [
    "dataframe.drop(columns=[\"name\"]).std()"
   ]
  },
  {
   "cell_type": "code",
   "execution_count": 36,
   "id": "867f8943",
   "metadata": {},
   "outputs": [
    {
     "data": {
      "text/plain": [
       "id                 6540506.5\n",
       "Maths_marks            245.7\n",
       "Chemistry_marks        414.3\n",
       "telugu_marks            73.7\n",
       "hindi_marks            369.7\n",
       "social_marks            86.7\n",
       "dtype: float64"
      ]
     },
     "execution_count": 36,
     "metadata": {},
     "output_type": "execute_result"
    }
   ],
   "source": [
    "dataframe.drop(columns=[\"name\"]).var()"
   ]
  },
  {
   "cell_type": "code",
   "execution_count": 37,
   "id": "db36209e",
   "metadata": {},
   "outputs": [
    {
     "data": {
      "text/html": [
       "<div>\n",
       "<style scoped>\n",
       "    .dataframe tbody tr th:only-of-type {\n",
       "        vertical-align: middle;\n",
       "    }\n",
       "\n",
       "    .dataframe tbody tr th {\n",
       "        vertical-align: top;\n",
       "    }\n",
       "\n",
       "    .dataframe thead th {\n",
       "        text-align: right;\n",
       "    }\n",
       "</style>\n",
       "<table border=\"1\" class=\"dataframe\">\n",
       "  <thead>\n",
       "    <tr style=\"text-align: right;\">\n",
       "      <th></th>\n",
       "      <th>id</th>\n",
       "      <th>Maths_marks</th>\n",
       "      <th>Chemistry_marks</th>\n",
       "      <th>telugu_marks</th>\n",
       "      <th>hindi_marks</th>\n",
       "      <th>social_marks</th>\n",
       "    </tr>\n",
       "    <tr>\n",
       "      <th>name</th>\n",
       "      <th></th>\n",
       "      <th></th>\n",
       "      <th></th>\n",
       "      <th></th>\n",
       "      <th></th>\n",
       "      <th></th>\n",
       "    </tr>\n",
       "  </thead>\n",
       "  <tbody>\n",
       "    <tr>\n",
       "      <th>aditya</th>\n",
       "      <td>7014</td>\n",
       "      <td>88</td>\n",
       "      <td>99</td>\n",
       "      <td>88</td>\n",
       "      <td>56</td>\n",
       "      <td>78</td>\n",
       "    </tr>\n",
       "    <tr>\n",
       "      <th>bhanu</th>\n",
       "      <td>7033</td>\n",
       "      <td>90</td>\n",
       "      <td>90</td>\n",
       "      <td>80</td>\n",
       "      <td>67</td>\n",
       "      <td>90</td>\n",
       "    </tr>\n",
       "    <tr>\n",
       "      <th>manoj</th>\n",
       "      <td>4511</td>\n",
       "      <td>97</td>\n",
       "      <td>99</td>\n",
       "      <td>97</td>\n",
       "      <td>97</td>\n",
       "      <td>97</td>\n",
       "    </tr>\n",
       "    <tr>\n",
       "      <th>sravan</th>\n",
       "      <td>7058</td>\n",
       "      <td>99</td>\n",
       "      <td>89</td>\n",
       "      <td>99</td>\n",
       "      <td>99</td>\n",
       "      <td>79</td>\n",
       "    </tr>\n",
       "  </tbody>\n",
       "</table>\n",
       "</div>"
      ],
      "text/plain": [
       "          id  Maths_marks  Chemistry_marks  telugu_marks  hindi_marks  \\\n",
       "name                                                                    \n",
       "aditya  7014           88               99            88           56   \n",
       "bhanu   7033           90               90            80           67   \n",
       "manoj   4511           97               99            97           97   \n",
       "sravan  7058           99               89            99           99   \n",
       "\n",
       "        social_marks  \n",
       "name                  \n",
       "aditya            78  \n",
       "bhanu             90  \n",
       "manoj             97  \n",
       "sravan            79  "
      ]
     },
     "execution_count": 37,
     "metadata": {},
     "output_type": "execute_result"
    }
   ],
   "source": [
    "dataframe.groupby(\"name\").first()"
   ]
  },
  {
   "cell_type": "code",
   "execution_count": 38,
   "id": "9982beb2",
   "metadata": {},
   "outputs": [
    {
     "data": {
      "text/plain": [
       "name\n",
       "aditya     78\n",
       "bhanu      90\n",
       "manoj     194\n",
       "sravan     79\n",
       "Name: social_marks, dtype: int64"
      ]
     },
     "execution_count": 38,
     "metadata": {},
     "output_type": "execute_result"
    }
   ],
   "source": [
    "dataframe.groupby(\"name\")[\"social_marks\"].sum()"
   ]
  },
  {
   "cell_type": "code",
   "execution_count": 39,
   "id": "89d806ca",
   "metadata": {},
   "outputs": [
    {
     "data": {
      "text/plain": [
       "name\n",
       "aditya    1\n",
       "bhanu     1\n",
       "manoj     2\n",
       "sravan    1\n",
       "Name: Maths_marks, dtype: int64"
      ]
     },
     "execution_count": 39,
     "metadata": {},
     "output_type": "execute_result"
    }
   ],
   "source": [
    "dataframe.groupby(\"name\")[\"Maths_marks\"].count()"
   ]
  },
  {
   "cell_type": "code",
   "execution_count": 40,
   "id": "745a3817",
   "metadata": {},
   "outputs": [
    {
     "data": {
      "text/plain": [
       "<pandas.core.groupby.generic.SeriesGroupBy object at 0x0000024E19C8A150>"
      ]
     },
     "execution_count": 40,
     "metadata": {},
     "output_type": "execute_result"
    }
   ],
   "source": [
    "dataframe.groupby(\"name\")[\"Maths_marks\"]"
   ]
  }
 ],
 "metadata": {
  "kernelspec": {
   "display_name": "g4g-ds",
   "language": "python",
   "name": "python3"
  },
  "language_info": {
   "codemirror_mode": {
    "name": "ipython",
    "version": 3
   },
   "file_extension": ".py",
   "mimetype": "text/x-python",
   "name": "python",
   "nbconvert_exporter": "python",
   "pygments_lexer": "ipython3",
   "version": "3.13.2"
  }
 },
 "nbformat": 4,
 "nbformat_minor": 5
}
