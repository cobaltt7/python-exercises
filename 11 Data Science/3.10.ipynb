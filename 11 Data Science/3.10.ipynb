{
 "cells": [
  {
   "cell_type": "markdown",
   "id": "1e4e6a86",
   "metadata": {},
   "source": [
    "### Interquartile Range (IQR)\n",
    "- Helps detect outliers\n",
    "- Data is divided into 4 quartiles\n",
    "\t- Q1 is the bottom 25% (values up to 25th percentile)\n",
    "\t- Q2 is the next 25% (up to 50th percentile)\n",
    "\t- Q3 is the next 25% (up to 75th percentile)\n",
    "\t- Q4 is the last 25% (beyond)\n",
    "- Another way to calulate quartiles:\n",
    "\t- Q1 is the median of the bottom half of the dataset\n",
    "\t- Q2 is the median of the dataset\n",
    "\t- Q3 is the median of the top half of the dataset\n",
    "- The interquartile range (IQR) is calculated with `IQR = Q3 - Q1`\n",
    "- Values `< Q1 - (1.5 * IQR)` or `> Q3 + (1.5 * IQR)` are generally considered outliers"
   ]
  },
  {
   "cell_type": "code",
   "execution_count": 13,
   "id": "369d322b",
   "metadata": {},
   "outputs": [
    {
     "data": {
      "text/plain": [
       "array([-10,   1,   2,   3,   4,   5,   6,  50])"
      ]
     },
     "execution_count": 13,
     "metadata": {},
     "output_type": "execute_result"
    }
   ],
   "source": [
    "import numpy as np\n",
    "data = np.sort([-10, 6, 2, 3, 4, 5, 1, 50])\n",
    "data"
   ]
  },
  {
   "cell_type": "code",
   "execution_count": 14,
   "id": "86a241d8",
   "metadata": {},
   "outputs": [
    {
     "name": "stdout",
     "output_type": "stream",
     "text": [
      "Q1 1.5\n",
      "Q2 3.5\n",
      "Q3 5.5\n"
     ]
    }
   ],
   "source": [
    "Q1 = np.percentile(data, 25, method=\"midpoint\")\n",
    "print(\"Q1\", Q1)\n",
    "Q2 = np.percentile(data, 50, method=\"midpoint\")\n",
    "print(\"Q2\", Q2)\n",
    "Q3 = np.percentile(data, 75, method=\"midpoint\")\n",
    "print(\"Q3\", Q3)"
   ]
  },
  {
   "cell_type": "code",
   "execution_count": 15,
   "id": "056d4f01",
   "metadata": {},
   "outputs": [
    {
     "name": "stdout",
     "output_type": "stream",
     "text": [
      "IQR 4.0\n",
      "lower_limit -4.5\n",
      "upper_limit 11.5\n"
     ]
    }
   ],
   "source": [
    "IQR = Q3 - Q1\n",
    "print(\"IQR\", IQR)\n",
    "lower_limit = Q1 - 1.5 * IQR\n",
    "print('lower_limit', lower_limit)\n",
    "upper_limit = Q3 + 1.5 * IQR\n",
    "print('upper_limit', upper_limit)"
   ]
  },
  {
   "cell_type": "code",
   "execution_count": 24,
   "id": "889054d6",
   "metadata": {},
   "outputs": [
    {
     "data": {
      "text/plain": [
       "array([-10,  50])"
      ]
     },
     "execution_count": 24,
     "metadata": {},
     "output_type": "execute_result"
    }
   ],
   "source": [
    "data[(data > upper_limit) | (data < lower_limit)]"
   ]
  },
  {
   "cell_type": "code",
   "execution_count": 28,
   "id": "506ba736",
   "metadata": {},
   "outputs": [
    {
     "data": {
      "image/png": "[encoded data removed]",
      "text/plain": [
       "<Figure size 640x480 with 1 Axes>"
      ]
     },
     "metadata": {},
     "output_type": "display_data"
    }
   ],
   "source": [
    "import seaborn as sns\n",
    "import matplotlib.pyplot as plt\n",
    "\n",
    "sns.boxplot(data)\n",
    "plt.show()"
   ]
  },
  {
   "cell_type": "code",
   "execution_count": null,
   "id": "e9f9bf53",
   "metadata": {},
   "outputs": [],
   "source": []
  }
 ],
 "metadata": {
  "kernelspec": {
   "display_name": "g4g-ds",
   "language": "python",
   "name": "python3"
  },
  "language_info": {
   "codemirror_mode": {
    "name": "ipython",
    "version": 3
   },
   "file_extension": ".py",
   "mimetype": "text/x-python",
   "name": "python",
   "nbconvert_exporter": "python",
   "pygments_lexer": "ipython3",
   "version": "3.13.2"
  }
 },
 "nbformat": 4,
 "nbformat_minor": 5
}
